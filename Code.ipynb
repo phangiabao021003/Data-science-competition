{
  "nbformat": 4,
  "nbformat_minor": 0,
  "metadata": {
    "colab": {
      "provenance": []
    },
    "kernelspec": {
      "name": "python3",
      "display_name": "Python 3"
    },
    "language_info": {
      "name": "python"
    }
  },
  "cells": [
    {
      "cell_type": "code",
      "execution_count": 113,
      "metadata": {
        "id": "4IkkkI_kykmY"
      },
      "outputs": [],
      "source": [
        "import pandas as pd\n",
        "df1= pd.read_csv('/content/03_Item_Information_Data.csv')\n",
        "df2= pd.read_csv('/content/03_Shelf_Information_Data.csv')\n",
        "df3=pd.read_csv('/content/03_Customer_Behavior_Data.csv')\n"
      ]
    },
    {
      "cell_type": "code",
      "source": [
        "result_rows = df1[(df1['Shelf ID'] == 2) & (df1['Item ID'] == 8)]\n",
        "\n",
        "# Hiển thị kết quả\n",
        "print(result_rows)"
      ],
      "metadata": {
        "colab": {
          "base_uri": "https://localhost:8080/"
        },
        "id": "2AoTRafHYxMe",
        "outputId": "e65157e4-9b46-43f0-f75d-ad4e1e0193b0"
      },
      "execution_count": 33,
      "outputs": [
        {
          "output_type": "stream",
          "name": "stdout",
          "text": [
            "    Shelf ID  Item ID         Name   Origin Location  Weight (g)     Price  \\\n",
            "39         2        8  Sữa ông thọ  Vietnam     Thấp       380.0  31,500 ₫   \n",
            "\n",
            "           NSX         HSD  Marketing strategy  Discount   Rate  \n",
            "39  2024-06-03  2025-04-29               False          0     3  \n"
          ]
        }
      ]
    },
    {
      "cell_type": "code",
      "source": [
        "#1\n",
        "merged_df = pd.merge(df3, df1, on=['Shelf ID', 'Item ID'], how='left')\n",
        "\n",
        "merged_df['Time'] = merged_df['Looking at item (s)'] + merged_df['Holding the item (s)']\n",
        "\n",
        "total_time_for_looking_and_holding = merged_df.groupby('Name')['Time'].sum().reset_index()\n",
        "\n",
        "top_5_item_longest = total_time_for_looking_and_holding.sort_values(by='Time', ascending=False).head(5)\n",
        "top_5_item_shortest = total_time_for_looking_and_holding.sort_values(by='Time', ascending=True).head(5)\n",
        "\n",
        "print(\"Top 5 items got longest time for looking and holding\\n\",top_5_item_longest)\n",
        "print(\"Top 5 items got shortest time for looking and holding\\n\",top_5_item_shortest)"
      ],
      "metadata": {
        "colab": {
          "base_uri": "https://localhost:8080/"
        },
        "id": "rWpHkJ6IzQpR",
        "outputId": "bb5e805d-6935-45c5-c539-6a3446826197"
      },
      "execution_count": 37,
      "outputs": [
        {
          "output_type": "stream",
          "name": "stdout",
          "text": [
            "Top 5 items got longest time for looking and holding\n",
            "                      Name   Time\n",
            "108   Sữa chua uống Probi  22896\n",
            "109  Sữa chua uống Yakult  22896\n",
            "110           Sữa ông thọ  13939\n",
            "4           Bim bim Oishi  13866\n",
            "77   Snack khoai tây Lays  13362\n",
            "Top 5 items got shortest time for looking and holding\n",
            "                                                   Name  Time\n",
            "93                                       Sách Ðạo Tình  1152\n",
            "113                                    Truyện Doraemon  1378\n",
            "90                            Sách cho trẻ từ 1-2 tuổi  1421\n",
            "87                          Sách Thám tử Sherlock Home  1463\n",
            "116  Tã dán sơ sinh Bobby siêu mỏng Newborn 70 miế...  1669\n"
          ]
        }
      ]
    },
    {
      "cell_type": "code",
      "source": [
        "#2\n",
        "merged_df = pd.merge(df3, df1, on=['Shelf ID', 'Item ID'], how='left')\n",
        "merged_df['Picking up item'] = merged_df['Picking up item'].astype(int)\n",
        "merged_df['Returning item'] = merged_df['Returning item'].astype(int)\n",
        "merged_df['Pick and return']=(merged_df['Picking up item']==1) & (merged_df['Returning item']==1)\n",
        "\n",
        "\n",
        "item_counts=merged_df[merged_df['Pick and return']].groupby('Name').size().reset_index(name='Time pick and return')\n",
        "top_5_item=item_counts.sort_values(by='Time pick and return',ascending=False).head(5)\n",
        "print (\"Top 5 pick and return\\n\",top_5_item)"
      ],
      "metadata": {
        "colab": {
          "base_uri": "https://localhost:8080/"
        },
        "id": "YQ166Cck7FXj",
        "outputId": "47126ca3-e373-4a96-c927-33e2f9b1d07b"
      },
      "execution_count": 5,
      "outputs": [
        {
          "output_type": "stream",
          "name": "stdout",
          "text": [
            "Top 5 pick and return\n",
            "                              Name  Time pick and return\n",
            "0   4 hộp sữa lúa mạch Milo 180ml                   134\n",
            "76           Snack khoai tây Lays                   127\n",
            "50                   Mý ý SG Food                   117\n",
            "59                Nước lẩu Barona                   116\n",
            "6                   Bánh Chocopie                   114\n"
          ]
        }
      ]
    },
    {
      "cell_type": "code",
      "source": [
        "#3\n",
        "def classify_age_group(age):\n",
        "    if 18 <= age <= 30:\n",
        "        return 'Teenager'\n",
        "    elif 31 <= age <= 60:\n",
        "        return 'Middle-age'\n",
        "    else:\n",
        "        return 'Old'\n",
        "\n",
        "merged_df['Age group'] = merged_df['Age'].apply(classify_age_group)\n",
        "\n",
        "\n",
        "filtered_df = merged_df[(merged_df['Looking at item (s)'] > 0) &\n",
        "                        (merged_df['Picking up item'] == 1) &\n",
        "                        (merged_df['Holding the item (s)'] > 0) &\n",
        "                        (merged_df['Putting item into bag'] == True)]\n",
        "group_counts = merged_df.groupby(['Name', 'Age group']).size().reset_index(name='Number of purchases')\n",
        "#Middle-age\n",
        "df_loc = group_counts[group_counts['Age group'] == 'Middle-age']\n",
        "max_b_row = df_loc.loc[df_loc['Number of purchases'].idxmax()]\n",
        "print('Middle age\\n',max_b_row)\n",
        "#Teenager\n",
        "df_loc = group_counts[group_counts['Age group'] == 'Teenager']\n",
        "max_b_row = df_loc.loc[df_loc['Number of purchases'].idxmax()]\n",
        "print('Teenager\\n',max_b_row)\n",
        "#Old\n",
        "df_loc = group_counts[group_counts['Age group'] == 'Old']\n",
        "max_b_row = df_loc.loc[df_loc['Number of purchases'].idxmax()]\n",
        "print('Old\\n',max_b_row)"
      ],
      "metadata": {
        "colab": {
          "base_uri": "https://localhost:8080/"
        },
        "id": "UoR7-45hZCGH",
        "outputId": "3228f41f-ab60-4856-ad65-91e6e64316b0"
      },
      "execution_count": 65,
      "outputs": [
        {
          "output_type": "stream",
          "name": "stdout",
          "text": [
            "Middle age\n",
            " Name                   Snack khoai tây Lays\n",
            "Age group                        Middle-age\n",
            "Number of purchases                     125\n",
            "Name: 231, dtype: object\n",
            "Teenager\n",
            " Name                   Sữa bột Anmum Materna\n",
            "Age group                           Teenager\n",
            "Number of purchases                       64\n",
            "Name: 302, dtype: object\n",
            "Old\n",
            " Name                   Bánh trứng Custard\n",
            "Age group                             Old\n",
            "Number of purchases                    70\n",
            "Name: 31, dtype: object\n"
          ]
        }
      ]
    },
    {
      "cell_type": "code",
      "source": [
        "#4\n",
        "#Chuyển đổi 'Timestamp' sang định dạng ngày tháng\n",
        "df3['Date'] = pd.to_datetime(df3['Timestamp'], unit='s')\n",
        "\n",
        "# Lấy ngày trong tuần từ cột 'Date'\n",
        "df3['Day of Week'] = df3['Date'].dt.day_name()\n",
        "\n",
        "# Chuyển đổi cột 'Price' trong df2 sang kiểu số\n",
        "df1['Price'] = df1['Price'].str.replace(r'[^\\d]', '', regex=True).astype(int)\n",
        "\n",
        "# Gộp thông tin giá vào df1\n",
        "merged_df = pd.merge(df3, df1, on=['Shelf ID', 'Item ID'], how='left')\n",
        "filtered_df = merged_df[(merged_df['Looking at item (s)'] > 0) &\n",
        "                        (merged_df['Picking up item'] == 1) &\n",
        "                        (merged_df['Holding the item (s)'] > 0) &\n",
        "                        (merged_df['Putting item into bag'] == True) ]\n",
        "print(filtered_df[['Price','Name']])\n",
        "daily_sales = filtered_df.groupby('Day of Week')['Price'].sum().reset_index()\n",
        "daily_sales = daily_sales.sort_values(by='Price', ascending=False).head(5)\n",
        "print(daily_sales)\n",
        "\n",
        "\n"
      ],
      "metadata": {
        "colab": {
          "base_uri": "https://localhost:8080/"
        },
        "id": "XPjQcqqE0YQK",
        "outputId": "628e939b-a16b-4944-cc71-03c89bf61ca4"
      },
      "execution_count": 114,
      "outputs": [
        {
          "output_type": "stream",
          "name": "stdout",
          "text": [
            "        Price                 Name\n",
            "1       64500      Dầu ăn Tường An\n",
            "2       79000        Dầu ăn Simply\n",
            "5       64500      Dầu ăn Tường An\n",
            "7      175000         Kem vinamilk\n",
            "9       33000        Pizza kitkool\n",
            "...       ...                  ...\n",
            "15384  410000        Sửa bột Anele\n",
            "15385   36000  Sữa chua uống Probi\n",
            "15389  410000        Sửa bột Anele\n",
            "15390    4400           Mỳ Hảo Hảo\n",
            "15393    9000            Phở vifon\n",
            "\n",
            "[8027 rows x 2 columns]\n",
            "  Day of Week      Price\n",
            "2    Saturday  297675600\n",
            "3      Sunday  285325000\n",
            "5     Tuesday   96602300\n",
            "4    Thursday   88083000\n",
            "0      Friday   80778300\n"
          ]
        }
      ]
    },
    {
      "cell_type": "code",
      "source": [
        "# Chuyển đổi cột 'Price' trong df2 sang kiểu số\n",
        "df1['Price'] = df1['Price'].replace('₫', '', regex=True).astype(str)\n",
        "df1['Price'] = df1['Price'].str.replace('.', '', regex=True).str.strip()"
      ],
      "metadata": {
        "id": "3sX6Ar1C9Tz3"
      },
      "execution_count": null,
      "outputs": []
    },
    {
      "cell_type": "code",
      "source": [
        "\n",
        "# Tính tổng doanh thu theo ngày trong tuần\n",
        "daily_revenue = merged_df.groupby('Day of Week')['Price'].sum().reset_index()\n",
        "highest_revenue_day = daily_revenue.loc[daily_revenue['Giá'].idxmax()]\n",
        "\n",
        "print(highest_revenue_day)\n"
      ],
      "metadata": {
        "id": "K69BEXvU1ujF"
      },
      "execution_count": null,
      "outputs": []
    },
    {
      "cell_type": "code",
      "source": [
        "#5\n",
        "# Đếm số lượng người đi cho mỗi nhóm tuổi\n",
        "age_group_counts = merged_df['Age group'].value_counts().reset_index()\n",
        "age_group_counts.columns = ['Age group', 'Number of purchases']\n",
        "\n",
        "# Nhóm tuổi có lượng người đi nhiều nhất\n",
        "most_number_of_purchases_age_group = age_group_counts.iloc[0]\n",
        "\n",
        "print(age_group_counts)\n",
        "print(\"\\nThe age group has the largest number of people going:\")\n",
        "print(most_number_of_purchases_age_group)"
      ],
      "metadata": {
        "colab": {
          "base_uri": "https://localhost:8080/"
        },
        "id": "8BGlQ2sbePFh",
        "outputId": "56af4525-3017-4b07-86b1-38b5bd875615"
      },
      "execution_count": 8,
      "outputs": [
        {
          "output_type": "stream",
          "name": "stdout",
          "text": [
            "    Age group  Number of purchases\n",
            "0  Middle-age                 7617\n",
            "1         Old                 4203\n",
            "2    Teenager                 3574\n",
            "\n",
            "The age group has the largest number of people going:\n",
            "Age group              Middle-age\n",
            "Number of purchases          7617\n",
            "Name: 0, dtype: object\n"
          ]
        }
      ]
    },
    {
      "cell_type": "code",
      "source": [
        "6#\n",
        "merged_df = pd.merge(df3, df1, on=['Shelf ID', 'Item ID'], how='left') #df3:customer_behavior, df1: item_info\n",
        "\n",
        "merged_df['Picking up item'] = merged_df['Picking up item'].astype(int)\n",
        "# Lọc dữ liệu: Thời gian đi và về > 0 và Đi = True\n",
        "filtered_df = merged_df[(merged_df['Looking at item (s)'] > 0) &\n",
        "                        (merged_df['Picking up item'] == 1) &\n",
        "                        (merged_df['Holding the item (s)'] > 0) &\n",
        "                        (merged_df['Putting item into bag'] == True) &\n",
        "                        (merged_df['Discount ']>0)]\n",
        "\n",
        "# Nhóm theo 'Tên địa điểm' và tính số lượt chốt\n",
        "item_summary = filtered_df.groupby('Name').size().reset_index(name='Number of purchases of discount item')\n",
        "\n",
        "# Sắp xếp theo số lượt chốt giảm dần và lấy top 5\n",
        "top_5_item = item_summary.sort_values(by='Number of purchases of discount item', ascending=False).head(5)\n",
        "\n",
        "print(\"Top 5 sản phẩm giảm giá được người dùng chốt nhiều nhất:\")\n",
        "print(top_5_item)"
      ],
      "metadata": {
        "colab": {
          "base_uri": "https://localhost:8080/"
        },
        "id": "pUsqjCYhUfxe",
        "outputId": "743252ce-a0cd-487f-b20c-36428c62e543"
      },
      "execution_count": 12,
      "outputs": [
        {
          "output_type": "stream",
          "name": "stdout",
          "text": [
            "Top 5 sản phẩm giảm giá được người dùng chốt nhiều nhất:\n",
            "                  Name  Number of purchases of discount item\n",
            "4   Bánh trứng Custard                                   188\n",
            "22      Kem tràng tiền                                   180\n",
            "49        Sữa bột Milo                                   179\n",
            "13      Dầu gội Romano                                   113\n",
            "23      Khăn mặt Shine                                   112\n"
          ]
        }
      ]
    },
    {
      "cell_type": "code",
      "source": [
        "#7\n",
        "merged_df = pd.merge(df3, df1, on=['Shelf ID', 'Item ID'], how='left') #df3:customer_behavior, df1: item_info\n",
        "\n",
        "merged_df['Picking up item'] = merged_df['Picking up item'].astype(int)\n",
        "filtered_df = merged_df[(merged_df['Looking at item (s)'] > 0) &\n",
        "                        (merged_df['Picking up item'] == 1) &\n",
        "                        (merged_df['Holding the item (s)'] > 0) &\n",
        "                        (merged_df['Putting item into bag'] == True) &\n",
        "                        (merged_df['Marketing strategy'] == True)]\n",
        "\n",
        "# Nhóm theo 'Tên địa điểm' và tính số lượt chốt\n",
        "item_summary = filtered_df.groupby('Name').size().reset_index(name='Number of purchases of marketed item')\n",
        "\n",
        "# Sắp xếp theo số lượt chốt giảm dần và lấy top 5\n",
        "top_5_item = item_summary.sort_values(by='Number of purchases of marketed item', ascending=False).head(5)\n",
        "\n",
        "print(\"Top 5 nhãn hàng được quảng cáo được người dùng chốt nhiều nhất:\")\n",
        "print(top_5_item)\n"
      ],
      "metadata": {
        "colab": {
          "base_uri": "https://localhost:8080/"
        },
        "id": "mzK6usJ3bkI0",
        "outputId": "788c2dc9-f9f2-4917-e701-d651e24e9fac"
      },
      "execution_count": 14,
      "outputs": [
        {
          "output_type": "stream",
          "name": "stdout",
          "text": [
            "Top 5 nhãn hàng được quảng cáo được người dùng chốt nhiều nhất:\n",
            "                  Name  Number of purchases of marketed item\n",
            "0   Bánh trứng Custard                                   188\n",
            "6       Kem tràng tiền                                   180\n",
            "14        Sữa bột Milo                                   179\n",
            "7       Khăn mặt Shine                                   112\n",
            "8       Khăn tắm Shine                                   106\n"
          ]
        }
      ]
    },
    {
      "cell_type": "code",
      "source": [
        "#8\n",
        "merged_df = pd.merge(df3, df2, on=['Shelf ID'], how='left')\n",
        "merged_df['Total_time'] = merged_df['Looking at item (s)'] + merged_df['Holding the item (s)']\n",
        "total_of_time_concern = merged_df.groupby('Description')['Total_time'].sum().reset_index()\n",
        "\n",
        "print(\"Time of concern \\n\",total_of_time_concern)\n",
        "\n",
        "merged_df['Picking up item'] = merged_df['Picking up item'].astype(int).fillna(0)\n",
        "merged_df['Returning item'] = merged_df['Returning item'].astype(int).fillna(0)\n",
        "merged_df['Putting item into bag'] = merged_df['Putting item into bag'].fillna(False).astype(int)\n",
        "merged_df['Taking item out of bag'] = merged_df['Taking item out of bag'].fillna(False).astype(int)\n",
        "merged_df['Putting item into bag in the 2nd time'] = merged_df['Putting item into bag in the 2nd time'].fillna(False).astype(int)\n",
        "merged_df['Number of interactions'] = merged_df['Picking up item'] + merged_df['Returning item'] + merged_df['Putting item into bag'] + merged_df['Taking item out of bag'] + merged_df['Putting item into bag in the 2nd time']\n",
        "total_of_interactions = merged_df.groupby('Description')['Number of interactions'].sum().reset_index()\n",
        "\n",
        "print(\"\\n Total of interactions\\n\",total_of_interactions)\n",
        "top_5_list_df=pd.merge(total_of_time_concern,total_of_interactions, on=['Description'], how='left')\n",
        "top_5_list_df['Concern over interaction'] = top_5_list_df['Total_time'] / top_5_list_df['Number of interactions']\n",
        "\n",
        "# Sắp xếp DataFrame theo cột 'C' theo thứ tự giảm dần và lấy 5 giá trị cao nhất\n",
        "top_5_values = top_5_list_df.sort_values(by='Concern over interaction', ascending=False).head(5)\n",
        "print('\\nTop 3 shelfs got most Concern over interaction\\n ',top_5_values)\n"
      ],
      "metadata": {
        "colab": {
          "base_uri": "https://localhost:8080/"
        },
        "id": "oXmgwxnrlmFs",
        "outputId": "3fd95541-25d7-42cd-8afb-8967fb74b659"
      },
      "execution_count": 16,
      "outputs": [
        {
          "output_type": "stream",
          "name": "stdout",
          "text": [
            "Time of concern \n",
            "             Description  Total_time\n",
            "0         Quầy bánh kẹo      153458\n",
            "1         Quầy gia dụng       47380\n",
            "2           Quầy gia vị      108934\n",
            "3      Quầy hoá mỹ phẩm      120088\n",
            "4  Quầy sách và đồ chơi       42914\n",
            "5              Quầy sữa      106461\n",
            "6        Quầy thực phẩm       77919\n",
            "7        Quầy đông lạnh      201638\n",
            "\n",
            " Total of interactions\n",
            "             Description  Number of interactions\n",
            "0         Quầy bánh kẹo                    7668\n",
            "1         Quầy gia dụng                    2014\n",
            "2           Quầy gia vị                    5163\n",
            "3      Quầy hoá mỹ phẩm                    6522\n",
            "4  Quầy sách và đồ chơi                    3000\n",
            "5              Quầy sữa                    5271\n",
            "6        Quầy thực phẩm                    3584\n",
            "7        Quầy đông lạnh                    9211\n",
            "\n",
            "Top 3 shelfs got most Concern over interaction\n",
            "        Description  Total_time  Number of interactions  \\\n",
            "1   Quầy gia dụng       47380                    2014   \n",
            "7  Quầy đông lạnh      201638                    9211   \n",
            "6  Quầy thực phẩm       77919                    3584   \n",
            "2     Quầy gia vị      108934                    5163   \n",
            "5        Quầy sữa      106461                    5271   \n",
            "\n",
            "   Concern over interaction  \n",
            "1                 23.525323  \n",
            "7                 21.891000  \n",
            "6                 21.740792  \n",
            "2                 21.098973  \n",
            "5                 20.197496  \n"
          ]
        }
      ]
    },
    {
      "cell_type": "code",
      "source": [
        "#9\n",
        "merged_df = df3.merge(df2, on=['Shelf ID'], how='left')\n",
        "\n",
        "merged_df['Picking up item'] = merged_df['Picking up item'].astype(int)\n",
        "# Lọc dữ liệu: Thời gian đi và về > 0 và Đi = True\n",
        "filtered_df = merged_df[(merged_df['Looking at item (s)'] > 0) &\n",
        "                        (merged_df['Picking up item'] == 1) &\n",
        "                        (merged_df['Holding the item (s)'] > 0) &\n",
        "                        (merged_df['Putting item into bag'] == True) ]\n",
        "\n",
        "item_summary = filtered_df.groupby('Shelf ID').size().reset_index(name='Number of purchases of each shelf') #Note: chưa in ra tên quầy( cần bổ sung )\n",
        "top_5_item_of_shelf = item_summary.sort_values(by='Number of purchases of each shelf', ascending=False).head()\n",
        "\n",
        "print(\"Top 5 Quầy được người dùng chốt nhiều nhất:\")\n",
        "\n",
        "print(top_5_item_of_shelf)\n"
      ],
      "metadata": {
        "colab": {
          "base_uri": "https://localhost:8080/"
        },
        "id": "ZZa13WL6Ei9I",
        "outputId": "1e0e45e0-033c-4924-f804-7bdb7a658d94"
      },
      "execution_count": 118,
      "outputs": [
        {
          "output_type": "stream",
          "name": "stdout",
          "text": [
            "Top 5 Quầy được người dùng chốt nhiều nhất:\n",
            "   Shelf ID  Number of purchases of each shelf\n",
            "7         7                               1607\n",
            "1         1                               1387\n",
            "0         0                               1354\n",
            "2         2                               1026\n",
            "4         4                                962\n"
          ]
        }
      ]
    },
    {
      "cell_type": "code",
      "source": [
        "#10\n",
        "merged_df = df3.merge(df2, on=['Shelf ID'], how='left')\n",
        "shelf_x_by_customer = merged_df.groupby('Person ID')['Shelf ID'].unique().reset_index()\n",
        "# Lặp qua từng hàng trong DataFrame và truy xuất tất cả các mảng NumPy trong cột 'Shelf ID'\n",
        "all_shelf_ids = [item for sublist in shelf_x_by_customer['Shelf ID'] for item in sublist]\n",
        "\n",
        "# Bước 2: Tạo các cặp giá trị liên tiếp\n",
        "pairs = [(all_shelf_ids[i], all_shelf_ids[i+1]) for i in range(len(all_shelf_ids) - 1)]\n",
        "\n",
        "# Bước 3: Đếm tần suất xuất hiện của các cặp\n",
        "pair_counts = Counter(pairs)\n",
        "\n",
        "# Chuyển đổi kết quả thành DataFrame\n",
        "pair_df = pd.DataFrame(pair_counts.items(), columns=['Pair', 'Count'])\n",
        "\n",
        "# Bước 4: Sắp xếp và tìm các cặp phổ biến nhất\n",
        "top_pairs = pair_df.sort_values(by='Count', ascending=False).head(5)\n",
        "\n",
        "# Hiển thị kết quả\n",
        "print(top_pairs)\n"
      ],
      "metadata": {
        "colab": {
          "base_uri": "https://localhost:8080/"
        },
        "id": "AurE-Qs4Pq4k",
        "outputId": "0081cb50-627a-44fa-962e-5fc8ddf0dcca"
      },
      "execution_count": 31,
      "outputs": [
        {
          "output_type": "stream",
          "name": "stdout",
          "text": [
            "      Pair  Count\n",
            "29  (7, 0)    153\n",
            "5   (0, 7)    144\n",
            "12  (1, 7)    139\n",
            "11  (7, 1)    124\n",
            "13  (7, 4)    116\n"
          ]
        }
      ]
    },
    {
      "cell_type": "markdown",
      "source": [
        "Những sản phẩm có xu hướng đi với nhau"
      ],
      "metadata": {
        "id": "7_2sFItWJKxc"
      }
    },
    {
      "cell_type": "code",
      "source": [
        "merged_df = df3.merge(df1, on=['Shelf ID'], how='left')\n",
        "shelf_x_by_customer = merged_df.groupby('Person ID')['Name'].unique().reset_index()\n",
        "# Lặp qua từng hàng trong DataFrame và truy xuất tất cả các mảng NumPy trong cột 'Shelf ID'\n",
        "all_shelf_ids = [item for sublist in shelf_x_by_customer['Name'] for item in sublist]\n",
        "\n",
        "# Bước 2: Tạo các cặp giá trị liên tiếp\n",
        "pairs = [(all_shelf_ids[i], all_shelf_ids[i+1]) for i in range(len(all_shelf_ids) - 1)]\n",
        "\n",
        "# Bước 3: Đếm tần suất xuất hiện của các cặp\n",
        "pair_counts = Counter(pairs)\n",
        "\n",
        "# Chuyển đổi kết quả thành DataFrame\n",
        "pair_df = pd.DataFrame(pair_counts.items(), columns=['Pair', 'Count'])\n",
        "\n",
        "# Bước 4: Sắp xếp và tìm các cặp phổ biến nhất\n",
        "top_pairs = pair_df.sort_values(by='Count', ascending=False).head()\n",
        "\n",
        "# Hiển thị kết quả\n",
        "print(top_pairs)\n"
      ],
      "metadata": {
        "colab": {
          "base_uri": "https://localhost:8080/"
        },
        "id": "0IjmGNlYlrlt",
        "outputId": "20de2b14-a461-4e34-9a02-9b3a7b45cc02"
      },
      "execution_count": 120,
      "outputs": [
        {
          "output_type": "stream",
          "name": "stdout",
          "text": [
            "                                      Pair  Count\n",
            "26    (Sữa chua uống Probi, Sữa chua Susu)    718\n",
            "31         (Mý ý SG Food, Thanh cua Akira)    718\n",
            "24  (Sữa chua Ba vì, Sữa chua uống Yakult)    718\n",
            "23     (Sữa chua Mộc Châu, Sữa chua Ba vì)    718\n",
            "22        (Sửa chua TH, Sữa chua Mộc Châu)    718\n"
          ]
        }
      ]
    },
    {
      "cell_type": "markdown",
      "source": [
        "Top sản phẩm mua ít nhất và mua nhiều nhất"
      ],
      "metadata": {
        "id": "p7OflNtqJkE_"
      }
    },
    {
      "cell_type": "code",
      "source": [
        "merged_df = pd.merge(df3, df1, on=['Shelf ID', 'Item ID'], how='left') #df3:customer_behavior, df1: item_info\n",
        "\n",
        "merged_df['Picking up item'] = merged_df['Picking up item'].astype(int)\n",
        "filtered_df = merged_df[(merged_df['Looking at item (s)'] > 0) &\n",
        "                        (merged_df['Picking up item'] == 1) &\n",
        "                        (merged_df['Holding the item (s)'] > 0) &\n",
        "                        (merged_df['Putting item into bag'] == True)]\n",
        "\n",
        "# Nhóm theo 'Tên địa điểm' và tính số lượt chốt\n",
        "item_summary = filtered_df.groupby('Name').size().reset_index(name='Number of purchases of marketed item')\n",
        "\n",
        "# Sắp xếp theo số lượt chốt giảm dần và lấy top 5\n",
        "top_5_item_nhieu = item_summary.sort_values(by='Number of purchases of marketed item', ascending=False).head(5)\n",
        "top_5_item_it = item_summary.sort_values(by='Number of purchases of marketed item', ascending=True).head(5)\n",
        "print(\"Top 5 nhãn hàng được được người dùng mua nhiều nhất:\")\n",
        "print(top_5_item_nhieu)\n",
        "print(\"\\nTop 5 nhãn hàng được được người dùng mua ít nhất:\\n\",top_5_item_it)\n"
      ],
      "metadata": {
        "colab": {
          "base_uri": "https://localhost:8080/"
        },
        "id": "NJH63u5BXjDv",
        "outputId": "edf1a425-f4b9-459b-941f-50e9ffeda468"
      },
      "execution_count": 116,
      "outputs": [
        {
          "output_type": "stream",
          "name": "stdout",
          "text": [
            "Top 5 nhãn hàng được được người dùng mua nhiều nhất:\n",
            "                                           Name  \\\n",
            "46     Lốc 4 hộp sữa tươi ít đường TH true MILK   \n",
            "10                           Bánh trứng Custard   \n",
            "36                               Kem tràng tiền   \n",
            "103                                Sữa bột Milo   \n",
            "115  Tã dán Merries size NB 76 miếng (dưới 5kg)   \n",
            "\n",
            "     Number of purchases of marketed item  \n",
            "46                                    221  \n",
            "10                                    188  \n",
            "36                                    180  \n",
            "103                                   179  \n",
            "115                                   116  \n",
            "\n",
            "Top 5 nhãn hàng được được người dùng mua ít nhất:\n",
            "                                       Name  \\\n",
            "93                           Sách Ðạo Tình   \n",
            "132                                 Ðậu đỏ   \n",
            "59                              Nui Safoco   \n",
            "89   Sách cho trẻ sơ sinh đến 6 tháng tuổi   \n",
            "53                              Mỳ Hảo Hảo   \n",
            "\n",
            "     Number of purchases of marketed item  \n",
            "93                                     13  \n",
            "132                                    14  \n",
            "59                                     15  \n",
            "89                                     16  \n",
            "53                                     19  \n"
          ]
        }
      ]
    },
    {
      "cell_type": "markdown",
      "source": [
        "Quầy được người dùng mua ít nhất và nhiều nhất"
      ],
      "metadata": {
        "id": "vCe9gNAzLtUs"
      }
    },
    {
      "cell_type": "code",
      "source": [
        "merged_df = df3.merge(df2, on=['Shelf ID'], how='left')\n",
        "\n",
        "merged_df['Picking up item'] = merged_df['Picking up item'].astype(int)\n",
        "# Lọc dữ liệu: Thời gian đi và về > 0 và Đi = True\n",
        "filtered_df = merged_df[(merged_df['Looking at item (s)'] > 0) &\n",
        "                        (merged_df['Picking up item'] == 1) &\n",
        "                        (merged_df['Holding the item (s)'] > 0) &\n",
        "                        (merged_df['Putting item into bag'] == True) ]\n",
        "\n",
        "item_summary = filtered_df.groupby('Shelf ID').size().reset_index(name='Number of purchases of each shelf') #Note: chưa in ra tên quầy( cần bổ sung )\n",
        "top_5_item_of_shelf = item_summary.sort_values(by='Number of purchases of each shelf', ascending=False).head(5)\n",
        "top_5_item_of_shelf_it = item_summary.sort_values(by='Number of purchases of each shelf', ascending=True).head(5)\n",
        "\n",
        "print(\"Top 5 Quầy được người dùng chốt nhiều nhất:\")\n",
        "\n",
        "print(top_5_item_of_shelf)\n",
        "print(\"Top 5 Quầy được người dùng chốt ít nhất:\")\n",
        "print(top_5_item_of_shelf_it)\n"
      ],
      "metadata": {
        "colab": {
          "base_uri": "https://localhost:8080/"
        },
        "id": "p26nM925qeNW",
        "outputId": "02c1865e-7455-447c-8cd7-c0c283b696b4"
      },
      "execution_count": 119,
      "outputs": [
        {
          "output_type": "stream",
          "name": "stdout",
          "text": [
            "Top 5 Quầy được người dùng chốt nhiều nhất:\n",
            "   Shelf ID  Number of purchases of each shelf\n",
            "7         7                               1607\n",
            "1         1                               1387\n",
            "0         0                               1354\n",
            "2         2                               1026\n",
            "4         4                                962\n",
            "Top 5 Quầy được người dùng chốt ít nhất:\n",
            "   Shelf ID  Number of purchases of each shelf\n",
            "6         6                                474\n",
            "5         5                                516\n",
            "3         3                                701\n",
            "4         4                                962\n",
            "2         2                               1026\n"
          ]
        }
      ]
    }
  ]
}